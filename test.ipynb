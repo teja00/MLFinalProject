{
 "cells": [
  {
   "cell_type": "code",
   "execution_count": 1,
   "metadata": {},
   "outputs": [
    {
     "name": "stdout",
     "output_type": "stream",
     "text": [
      "main\n"
     ]
    }
   ],
   "source": [
    "import clang.cindex\n",
    "LIBCLANG_PATH = '/Library/Developer/CommandLineTools/usr/lib/libclang.dylib'\n",
    "# create an index\n",
    "clang.cindex.Config.set_library_file(LIBCLANG_PATH)\n",
    "\n",
    "def list_functions(tu):\n",
    "    \"\"\"\n",
    "    Print the names of all the functions in the translation unit.\n",
    "    \"\"\"\n",
    "    filename = tu.cursor.spelling\n",
    "    for cursor in tu.cursor.walk_preorder():\n",
    "        if cursor.location.file is None:\n",
    "            continue\n",
    "        if cursor.location.file.name != filename:\n",
    "            continue\n",
    "        if cursor.kind == clang.cindex.CursorKind.FUNCTION_DECL:\n",
    "            print(cursor.spelling)\n",
    "\n",
    "if __name__ == '__main__':\n",
    "    index = clang.cindex.Index.create()\n",
    "    tu = index.parse('test.cpp')  # Replace 'sample.cpp' with your file\n",
    "    list_functions(tu)\n"
   ]
  },
  {
   "cell_type": "code",
   "execution_count": null,
   "metadata": {},
   "outputs": [],
   "source": []
  }
 ],
 "metadata": {
  "kernelspec": {
   "display_name": "Python 3",
   "language": "python",
   "name": "python3"
  },
  "language_info": {
   "codemirror_mode": {
    "name": "ipython",
    "version": 3
   },
   "file_extension": ".py",
   "mimetype": "text/x-python",
   "name": "python",
   "nbconvert_exporter": "python",
   "pygments_lexer": "ipython3",
   "version": "3.11.5"
  }
 },
 "nbformat": 4,
 "nbformat_minor": 2
}
