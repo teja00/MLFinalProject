{
  "cells": [
    {
      "cell_type": "markdown",
      "metadata": {
        "id": "6y14niFfVLrF"
      },
      "source": [
        "# Code Similarity Using Graph Neural Networks"
      ]
    },
    {
      "cell_type": "markdown",
      "metadata": {
        "id": "6aCQefWqVX3B"
      },
      "source": [
        "In this colab, we show how to use graph neural networks to compute code similarity between two pieces of code using the CodeXGlue POJ-104 dataset."
      ]
    },
    {
      "cell_type": "markdown",
      "metadata": {
        "id": "P5c44GruStYK"
      },
      "source": [
        "## Setup"
      ]
    },
    {
      "cell_type": "markdown",
      "metadata": {
        "id": "2RQQhU04XZhe"
      },
      "source": [
        "First create a project folder in the your Google Drive"
      ]
    },
    {
      "cell_type": "markdown",
      "metadata": {
        "id": "OOUsVODE4eUj"
      },
      "source": [
        "Mount Colab to drive to give it access to the project's file directory"
      ]
    },
    {
      "cell_type": "code",
      "execution_count": 15,
      "metadata": {
        "colab": {
          "base_uri": "https://localhost:8080/"
        },
        "id": "dRKoSeKhympV",
        "outputId": "fb19edd7-5dd1-490f-9a2a-f3196984a27a"
      },
      "outputs": [],
      "source": [
        "# from google.colab import drive\n",
        "# drive.mount('/content/drive', force_remount=True)"
      ]
    },
    {
      "cell_type": "code",
      "execution_count": 16,
      "metadata": {
        "colab": {
          "base_uri": "https://localhost:8080/"
        },
        "id": "0Q2F9OKRbXU1",
        "outputId": "1b3150cb-570d-4cee-948c-8f1cfc795f4b"
      },
      "outputs": [
        {
          "name": "stdout",
          "output_type": "stream",
          "text": [
            "/Users/tejanagubandi/Desktop/Master-1.1/IntroToMl/MLFinalProject\n"
          ]
        }
      ],
      "source": [
        "import os\n",
        "if not os.path.isfile('nx_pyg.py'):\n",
        "  # Edit this location based on your project folder location\n",
        "  os.chdir('/Users/tejanagubandi/Desktop/Master-1.1/IntroToMl/MLFinalProject/')\n",
        "print(os.getcwd())"
      ]
    },
    {
      "cell_type": "markdown",
      "metadata": {
        "id": "OdoRW4vh43AN"
      },
      "source": [
        "Install required packages: PyTorch Geometric, PyTorch Sparse, and PyTorch Scatter"
      ]
    },
    {
      "cell_type": "code",
      "execution_count": 17,
      "metadata": {
        "colab": {
          "background_save": true,
          "base_uri": "https://localhost:8080/"
        },
        "id": "STnvpaXCa4gp",
        "outputId": "6d9a5a8b-611d-42a1-8136-d63568045f25"
      },
      "outputs": [
        {
          "name": "stdout",
          "output_type": "stream",
          "text": [
            "Looking in links: https://data.pyg.org/whl/torch-1.13.1+cu116.html\n",
            "Requirement already satisfied: torch-scatter in ./MLFinalProject/lib/python3.9/site-packages (2.1.2)\n",
            "\u001b[33mWARNING: You are using pip version 21.2.4; however, version 23.3.1 is available.\n",
            "You should consider upgrading via the '/Users/tejanagubandi/Desktop/Master-1.1/IntroToMl/MLFinalProject/MLFinalProject/bin/python3 -m pip install --upgrade pip' command.\u001b[0m\n",
            "Looking in links: https://data.pyg.org/whl/torch-1.13.1+cu116.html\n",
            "Requirement already satisfied: torch-sparse in ./MLFinalProject/lib/python3.9/site-packages (0.6.18)\n",
            "Requirement already satisfied: scipy in ./MLFinalProject/lib/python3.9/site-packages (from torch-sparse) (1.11.3)\n",
            "Requirement already satisfied: numpy<1.28.0,>=1.21.6 in ./MLFinalProject/lib/python3.9/site-packages (from scipy->torch-sparse) (1.26.1)\n",
            "\u001b[33mWARNING: You are using pip version 21.2.4; however, version 23.3.1 is available.\n",
            "You should consider upgrading via the '/Users/tejanagubandi/Desktop/Master-1.1/IntroToMl/MLFinalProject/MLFinalProject/bin/python3 -m pip install --upgrade pip' command.\u001b[0m\n",
            "Requirement already satisfied: torch-geometric in ./MLFinalProject/lib/python3.9/site-packages (2.4.0)\n",
            "Requirement already satisfied: jinja2 in ./MLFinalProject/lib/python3.9/site-packages (from torch-geometric) (3.1.2)\n",
            "Requirement already satisfied: numpy in ./MLFinalProject/lib/python3.9/site-packages (from torch-geometric) (1.26.1)\n",
            "Requirement already satisfied: psutil>=5.8.0 in ./MLFinalProject/lib/python3.9/site-packages (from torch-geometric) (5.9.6)\n",
            "Requirement already satisfied: scikit-learn in ./MLFinalProject/lib/python3.9/site-packages (from torch-geometric) (1.3.2)\n",
            "Requirement already satisfied: pyparsing in ./MLFinalProject/lib/python3.9/site-packages (from torch-geometric) (3.1.1)\n",
            "Requirement already satisfied: requests in ./MLFinalProject/lib/python3.9/site-packages (from torch-geometric) (2.31.0)\n",
            "Requirement already satisfied: tqdm in ./MLFinalProject/lib/python3.9/site-packages (from torch-geometric) (4.66.1)\n",
            "Requirement already satisfied: scipy in ./MLFinalProject/lib/python3.9/site-packages (from torch-geometric) (1.11.3)\n",
            "Requirement already satisfied: MarkupSafe>=2.0 in ./MLFinalProject/lib/python3.9/site-packages (from jinja2->torch-geometric) (2.1.3)\n",
            "Requirement already satisfied: certifi>=2017.4.17 in ./MLFinalProject/lib/python3.9/site-packages (from requests->torch-geometric) (2023.7.22)\n",
            "Requirement already satisfied: idna<4,>=2.5 in ./MLFinalProject/lib/python3.9/site-packages (from requests->torch-geometric) (3.4)\n",
            "Requirement already satisfied: urllib3<3,>=1.21.1 in ./MLFinalProject/lib/python3.9/site-packages (from requests->torch-geometric) (1.26.6)\n",
            "Requirement already satisfied: charset-normalizer<4,>=2 in ./MLFinalProject/lib/python3.9/site-packages (from requests->torch-geometric) (3.3.1)\n",
            "Requirement already satisfied: threadpoolctl>=2.0.0 in ./MLFinalProject/lib/python3.9/site-packages (from scikit-learn->torch-geometric) (3.2.0)\n",
            "Requirement already satisfied: joblib>=1.1.1 in ./MLFinalProject/lib/python3.9/site-packages (from scikit-learn->torch-geometric) (1.3.2)\n",
            "\u001b[33mWARNING: You are using pip version 21.2.4; however, version 23.3.1 is available.\n",
            "You should consider upgrading via the '/Users/tejanagubandi/Desktop/Master-1.1/IntroToMl/MLFinalProject/MLFinalProject/bin/python3 -m pip install --upgrade pip' command.\u001b[0m\n",
            "Requirement already satisfied: networkx in ./MLFinalProject/lib/python3.9/site-packages (3.2)\n",
            "\u001b[33mWARNING: You are using pip version 21.2.4; however, version 23.3.1 is available.\n",
            "You should consider upgrading via the '/Users/tejanagubandi/Desktop/Master-1.1/IntroToMl/MLFinalProject/MLFinalProject/bin/python3 -m pip install --upgrade pip' command.\u001b[0m\n"
          ]
        }
      ],
      "source": [
        "!pip install torch-scatter -f https://data.pyg.org/whl/torch-1.13.1+cu116.html\n",
        "!pip install torch-sparse -f https://data.pyg.org/whl/torch-1.13.1+cu116.html\n",
        "!pip install torch-geometric\n",
        "!pip install networkx\n",
        "# !pip install clang"
      ]
    },
    {
      "cell_type": "markdown",
      "metadata": {
        "id": "a7x1YLvk5ELq"
      },
      "source": [
        "Import relevant packages for training, visualisation, and data processing"
      ]
    },
    {
      "cell_type": "code",
      "execution_count": 18,
      "metadata": {
        "id": "IZHWAi2zZzoF"
      },
      "outputs": [],
      "source": [
        "import torch_geometric as pyg\n",
        "import torch\n",
        "import torch_scatter\n",
        "import torch.nn as nn\n",
        "import torch.nn.functional as F\n",
        "import numpy as np\n",
        "import torch\n",
        "import torch.optim as optim\n",
        "from tqdm import trange\n",
        "import matplotlib.pyplot as plt\n",
        "from torch_geometric.nn.pool import SAGPooling\n",
        "import copy\n",
        "from torch_geometric.data import Batch, Dataset\n",
        "from torch_geometric.loader import DataLoader\n",
        "import torch.optim as optim\n",
        "from torch_geometric.nn.conv import MessagePassing\n",
        "from torch_geometric.nn import aggr\n",
        "from torch_geometric.utils import softmax, from_networkx\n",
        "from zipfile import ZipFile\n",
        "import subprocess\n",
        "import clang.cindex\n",
        "import networkx as nx\n",
        "import json"
      ]
    },
    {
      "cell_type": "markdown",
      "metadata": {
        "id": "HW1TOaeb5Kvs"
      },
      "source": [
        "Define the model's hyperparameters and training setup parameters"
      ]
    },
    {
      "cell_type": "code",
      "execution_count": 19,
      "metadata": {
        "id": "eKa1j1RbcnCj"
      },
      "outputs": [],
      "source": [
        "device = torch.device('cuda' if torch.cuda.is_available() else 'cpu')\n",
        "args = {'model_type': 'ORD', 'num_layers': 5, 'heads': 1, 'batch_size': 8, 'embedding_dim': 192, 'hidden_dim': 192, 'dropout': 0.5,\n",
        "            'epochs': 50, 'opt': 'adam', 'opt_restart': 0, 'weight_decay': 5e-3, 'lr': 0.001, 'device': device}\n",
        "class objectview(object):\n",
        "    def __init__(self, d):\n",
        "        self.__dict__ = d\n",
        "\n",
        "args = objectview(args)"
      ]
    },
    {
      "cell_type": "markdown",
      "metadata": {
        "id": "Rq9RuidzS-4O"
      },
      "source": [
        "## Creating the Dataset"
      ]
    },
    {
      "cell_type": "markdown",
      "metadata": {
        "id": "H0DNLngrYEK2"
      },
      "source": [
        "Check if the data files `train.pt`, `valid.pt`, and `test.pt` already exist, and if they do, skip this section."
      ]
    },
    {
      "cell_type": "code",
      "execution_count": 20,
      "metadata": {
        "colab": {
          "base_uri": "https://localhost:8080/"
        },
        "id": "t7Wra2clWxcF",
        "outputId": "86079a07-3d75-4545-b000-6e071211df3e"
      },
      "outputs": [
        {
          "name": "stdout",
          "output_type": "stream",
          "text": [
            "[]\n"
          ]
        }
      ],
      "source": [
        "print(os.listdir('data/poj-104/'))"
      ]
    },
    {
      "cell_type": "markdown",
      "metadata": {
        "id": "5cR23o3kV9id"
      },
      "source": [
        "First, we must download and preprocess the POJ-104 dataset. First download the [POJ-104 directory](https://github.com/microsoft/CodeXGLUE/tree/main/Code-Code/Clone-detection-POJ-104) as a directory named `Clone-detection-POJ-104` in the project folder. Then, follow the instructions in the directory to download and preprocess the dataset.\n",
        "\n",
        "At the end of this, you should have `train.jsonl`, `valid.jsonl`, and `test.jsonl` in `./Clone-detection-POJ-104/dataset`"
      ]
    },
    {
      "cell_type": "markdown",
      "metadata": {
        "id": "Dz2f6wmUhP8v"
      },
      "source": [
        "We now define some functions to convert node labels of an Abstract Syntax Tree (AST) into one-hot vectors"
      ]
    },
    {
      "cell_type": "code",
      "execution_count": 21,
      "metadata": {
        "id": "WEYPo2nRdJoD"
      },
      "outputs": [],
      "source": [
        "# Set of all possible node labels\n",
        "\n",
        "NODE_LABELS = ['UNEXPOSED_DECL', 'STRUCT_DECL', 'UNION_DECL', 'CLASS_DECL', 'ENUM_DECL', 'FIELD_DECL',\n",
        "               'ENUM_CONSTANT_DECL', 'FUNCTION_DECL', 'VAR_DECL', 'PARM_DECL', 'OBJC_INTERFACE_DECL',\n",
        "               'OBJC_CATEGORY_DECL', 'OBJC_PROTOCOL_DECL', 'OBJC_PROPERTY_DECL', 'OBJC_IVAR_DECL',\n",
        "               'OBJC_INSTANCE_METHOD_DECL', 'OBJC_CLASS_METHOD_DECL', 'OBJC_IMPLEMENTATION_DECL',\n",
        "               'OBJC_CATEGORY_IMPL_DECL', 'TYPEDEF_DECL', 'CXX_METHOD', 'NAMESPACE', 'LINKAGE_SPEC', 'CONSTRUCTOR',\n",
        "               'DESTRUCTOR', 'CONVERSION_FUNCTION', 'TEMPLATE_TYPE_PARAMETER', 'TEMPLATE_NON_TYPE_PARAMETER',\n",
        "               'TEMPLATE_TEMPLATE_PARAMETER', 'FUNCTION_TEMPLATE', 'CLASS_TEMPLATE',\n",
        "               'CLASS_TEMPLATE_PARTIAL_SPECIALIZATION', 'NAMESPACE_ALIAS', 'USING_DIRECTIVE', 'USING_DECLARATION',\n",
        "               'TYPE_ALIAS_DECL', 'OBJC_SYNTHESIZE_DECL', 'OBJC_DYNAMIC_DECL', 'CXX_ACCESS_SPEC_DECL',\n",
        "               'OBJC_SUPER_CLASS_REF', 'OBJC_PROTOCOL_REF', 'OBJC_CLASS_REF', 'TYPE_REF', 'CXX_BASE_SPECIFIER',\n",
        "               'TEMPLATE_REF', 'NAMESPACE_REF', 'MEMBER_REF', 'LABEL_REF', 'OVERLOADED_DECL_REF', 'VARIABLE_REF',\n",
        "               'INVALID_FILE', 'NO_DECL_FOUND', 'NOT_IMPLEMENTED', 'INVALID_CODE', 'UNEXPOSED_EXPR', 'DECL_REF_EXPR',\n",
        "               'MEMBER_REF_EXPR', 'CALL_EXPR', 'OBJC_MESSAGE_EXPR', 'BLOCK_EXPR', 'INTEGER_LITERAL', 'FLOATING_LITERAL',\n",
        "               'IMAGINARY_LITERAL', 'STRING_LITERAL', 'CHARACTER_LITERAL', 'PAREN_EXPR', 'UNARY_OPERATOR',\n",
        "               'ARRAY_SUBSCRIPT_EXPR', 'BINARY_OPERATOR', 'COMPOUND_ASSIGNMENT_OPERATOR', 'CONDITIONAL_OPERATOR',\n",
        "               'CSTYLE_CAST_EXPR', 'COMPOUND_LITERAL_EXPR', 'INIT_LIST_EXPR', 'ADDR_LABEL_EXPR', 'StmtExpr',\n",
        "               'GENERIC_SELECTION_EXPR', 'GNU_NULL_EXPR', 'CXX_STATIC_CAST_EXPR', 'CXX_DYNAMIC_CAST_EXPR',\n",
        "               'CXX_REINTERPRET_CAST_EXPR', 'CXX_CONST_CAST_EXPR', 'CXX_FUNCTIONAL_CAST_EXPR', 'CXX_TYPEID_EXPR',\n",
        "               'CXX_BOOL_LITERAL_EXPR', 'CXX_NULL_PTR_LITERAL_EXPR', 'CXX_THIS_EXPR', 'CXX_THROW_EXPR', 'CXX_NEW_EXPR',\n",
        "               'CXX_DELETE_EXPR', 'CXX_UNARY_EXPR', 'OBJC_STRING_LITERAL', 'OBJC_ENCODE_EXPR', 'OBJC_SELECTOR_EXPR',\n",
        "               'OBJC_PROTOCOL_EXPR', 'OBJC_BRIDGE_CAST_EXPR', 'PACK_EXPANSION_EXPR', 'SIZE_OF_PACK_EXPR', 'LAMBDA_EXPR',\n",
        "               'OBJ_BOOL_LITERAL_EXPR', 'OBJ_SELF_EXPR', 'OMP_ARRAY_SECTION_EXPR', 'OBJC_AVAILABILITY_CHECK_EXPR',\n",
        "               'UNEXPOSED_STMT', 'LABEL_STMT', 'COMPOUND_STMT', 'CASE_STMT', 'DEFAULT_STMT', 'IF_STMT', 'SWITCH_STMT',\n",
        "               'WHILE_STMT', 'DO_STMT', 'FOR_STMT', 'GOTO_STMT', 'INDIRECT_GOTO_STMT', 'CONTINUE_STMT', 'BREAK_STMT',\n",
        "               'RETURN_STMT', 'ASM_STMT', 'OBJC_AT_TRY_STMT', 'OBJC_AT_CATCH_STMT', 'OBJC_AT_FINALLY_STMT',\n",
        "               'OBJC_AT_THROW_STMT', 'OBJC_AT_SYNCHRONIZED_STMT', 'OBJC_AUTORELEASE_POOL_STMT',\n",
        "               'OBJC_FOR_COLLECTION_STMT', 'CXX_CATCH_STMT', 'CXX_TRY_STMT', 'CXX_FOR_RANGE_STMT', 'SEH_TRY_STMT',\n",
        "               'SEH_EXCEPT_STMT', 'SEH_FINALLY_STMT', 'MS_ASM_STMT', 'NULL_STMT', 'DECL_STMT', 'OMP_PARALLEL_DIRECTIVE',\n",
        "               'OMP_SIMD_DIRECTIVE', 'OMP_FOR_DIRECTIVE', 'OMP_SECTIONS_DIRECTIVE', 'OMP_SECTION_DIRECTIVE',\n",
        "               'OMP_SINGLE_DIRECTIVE', 'OMP_PARALLEL_FOR_DIRECTIVE', 'OMP_PARALLEL_SECTIONS_DIRECTIVE',\n",
        "               'OMP_TASK_DIRECTIVE', 'OMP_MASTER_DIRECTIVE', 'OMP_CRITICAL_DIRECTIVE', 'OMP_TASKYIELD_DIRECTIVE',\n",
        "               'OMP_BARRIER_DIRECTIVE', 'OMP_TASKWAIT_DIRECTIVE', 'OMP_FLUSH_DIRECTIVE', 'SEH_LEAVE_STMT',\n",
        "               'OMP_ORDERED_DIRECTIVE', 'OMP_ATOMIC_DIRECTIVE', 'OMP_FOR_SIMD_DIRECTIVE',\n",
        "               'OMP_PARALLELFORSIMD_DIRECTIVE', 'OMP_TARGET_DIRECTIVE', 'OMP_TEAMS_DIRECTIVE',\n",
        "               'OMP_TASKGROUP_DIRECTIVE', 'OMP_CANCELLATION_POINT_DIRECTIVE', 'OMP_CANCEL_DIRECTIVE',\n",
        "               'OMP_TARGET_DATA_DIRECTIVE', 'OMP_TASK_LOOP_DIRECTIVE', 'OMP_TASK_LOOP_SIMD_DIRECTIVE',\n",
        "               'OMP_DISTRIBUTE_DIRECTIVE', 'OMP_TARGET_ENTER_DATA_DIRECTIVE', 'OMP_TARGET_EXIT_DATA_DIRECTIVE',\n",
        "               'OMP_TARGET_PARALLEL_DIRECTIVE', 'OMP_TARGET_PARALLELFOR_DIRECTIVE', 'OMP_TARGET_UPDATE_DIRECTIVE',\n",
        "               'OMP_DISTRIBUTE_PARALLELFOR_DIRECTIVE', 'OMP_DISTRIBUTE_PARALLEL_FOR_SIMD_DIRECTIVE',\n",
        "               'OMP_DISTRIBUTE_SIMD_DIRECTIVE', 'OMP_TARGET_PARALLEL_FOR_SIMD_DIRECTIVE', 'OMP_TARGET_SIMD_DIRECTIVE',\n",
        "               'OMP_TEAMS_DISTRIBUTE_DIRECTIVE', 'TRANSLATION_UNIT', 'UNEXPOSED_ATTR', 'IB_ACTION_ATTR',\n",
        "               'IB_OUTLET_ATTR', 'IB_OUTLET_COLLECTION_ATTR', 'CXX_FINAL_ATTR', 'CXX_OVERRIDE_ATTR', 'ANNOTATE_ATTR',\n",
        "               'ASM_LABEL_ATTR', 'PACKED_ATTR', 'PURE_ATTR', 'CONST_ATTR', 'NODUPLICATE_ATTR', 'CUDACONSTANT_ATTR',\n",
        "               'CUDADEVICE_ATTR', 'CUDAGLOBAL_ATTR', 'CUDAHOST_ATTR', 'CUDASHARED_ATTR', 'VISIBILITY_ATTR',\n",
        "               'DLLEXPORT_ATTR', 'DLLIMPORT_ATTR', 'CONVERGENT_ATTR', 'WARN_UNUSED_ATTR', 'WARN_UNUSED_RESULT_ATTR',\n",
        "               'ALIGNED_ATTR', 'PREPROCESSING_DIRECTIVE', 'MACRO_DEFINITION', 'MACRO_INSTANTIATION',\n",
        "               'INCLUSION_DIRECTIVE', 'MODULE_IMPORT_DECL', 'TYPE_ALIAS_TEMPLATE_DECL', 'STATIC_ASSERT',\n",
        "               'FRIEND_DECL', 'OVERLOAD_CANDIDATE']"
      ]
    },
    {
      "cell_type": "code",
      "execution_count": 22,
      "metadata": {
        "id": "wtTYLGreYalf"
      },
      "outputs": [],
      "source": [
        "NODE_LABEL_INDEX_LOOKUP = {l: i for i, l in enumerate(NODE_LABELS)}\n",
        "\n",
        "def label_to_one_hot(label):\n",
        "    one_hot = torch.zeros(len(NODE_LABELS) + 1)\n",
        "    if label in NODE_LABEL_INDEX_LOOKUP:\n",
        "        one_hot[NODE_LABEL_INDEX_LOOKUP[label]] = 1\n",
        "    else:\n",
        "      # Not a known label, so set the last index to 1\n",
        "      one_hot[-1] = 1\n",
        "    return one_hot\n",
        "\n",
        "\n",
        "def label_to_categorical(label):\n",
        "    if label in NODE_LABEL_INDEX_LOOKUP:\n",
        "        return int(NODE_LABEL_INDEX_LOOKUP[label])\n",
        "    else:\n",
        "      # Not a known label, so return the last index\n",
        "      return len(NODE_LABELS)"
      ]
    },
    {
      "cell_type": "markdown",
      "metadata": {
        "id": "O4p4mTiHhmVQ"
      },
      "source": [
        "To convert a string of code to a graph, we write it to a .cpp file and parse it using clang. We then recursive over all nodes in the parsed AST and add them and their edges to a NetworkX graph."
      ]
    },
    {
      "cell_type": "code",
      "execution_count": 23,
      "metadata": {
        "id": "JFiewp_JY14F"
      },
      "outputs": [],
      "source": [
        "OUTPUT_FILENAME = 'output.cpp'\n",
        "\n",
        "def get_root(cindex, input_filename, output_filename=OUTPUT_FILENAME):\n",
        "    \"\"\"\n",
        "    Saves code string to .cpp file, parses it using clang, and returns root node of AST\n",
        "    \"\"\"\n",
        "    with open(input_filename, 'r') as input, open(output_filename, 'w') as output:\n",
        "        for line in input:\n",
        "            output.write(line)\n",
        "\n",
        "    root = cindex.parse(output_filename)\n",
        "    return root\n",
        "\n",
        "\n",
        "def traverse_ast(node, parent=None, graph=None):\n",
        "    \"\"\"\n",
        "    Recurse over AST and add nodes and edges to NetworkX graph\n",
        "    \"\"\"\n",
        "    # Base case\n",
        "    if graph is None:\n",
        "        graph = nx.DiGraph()\n",
        "    if node.kind.is_unexposed():\n",
        "        # Unexposed nodes are compiler specific and should be skipped over\n",
        "        for child in node.get_children():\n",
        "            traverse_ast(child, parent, graph)\n",
        "    else:\n",
        "        # Add the current node to the graph\n",
        "        node_id = str(node.hash)\n",
        "        node_label = node.kind.name\n",
        "        if str(node_label)[-7:] == \"LITERAL\":\n",
        "            # Differentiating string literals and other numeric literals\n",
        "            if node_label[:6] == \"STRING\":\n",
        "                # Save string data as node value\n",
        "                graph.add_node(node_id, node_label=label_to_categorical(node_label), node_val = node.spelling)\n",
        "            else:\n",
        "                try:\n",
        "                    val = next(node.get_tokens()).spelling\n",
        "                except StopIteration:\n",
        "                    val = None\n",
        "                # Save other literal value as node value\n",
        "                graph.add_node(node_id, node_label=label_to_categorical(node_label), node_val = val)\n",
        "\n",
        "        else:\n",
        "            # Non-literal added with empty value\n",
        "            graph.add_node(node_id, node_label=label_to_categorical(node_label), node_val = '')\n",
        "\n",
        "        # Add an edge from the current node to its parent\n",
        "        if parent is not None:\n",
        "            graph.add_edge(node_id, parent)\n",
        "        # Recursively traverse the children of the current node\n",
        "        for child in node.get_children():\n",
        "            traverse_ast(child, node_id, graph)\n",
        "    return graph"
      ]
    },
    {
      "cell_type": "markdown",
      "metadata": {
        "id": "IRKeHmVEi_75"
      },
      "source": [
        "Putting it together, we convert a code string to a PyG Data object"
      ]
    },
    {
      "cell_type": "code",
      "execution_count": 24,
      "metadata": {
        "id": "PkffAdqNg9Q4"
      },
      "outputs": [],
      "source": [
        "def txt_to_nx_graph(index, input_filename, output_filename=OUTPUT_FILENAME):\n",
        "    root = get_root(index, input_filename, output_filename)\n",
        "    graph = traverse_ast(root.cursor)\n",
        "    return graph\n",
        "\n",
        "def to_pyg(nx_graph):\n",
        "  data = from_networkx(nx_graph)\n",
        "  data.x = torch.nn.functional.one_hot(data.node_label, num_classes=len(NODE_LABELS) + 1)\n",
        "  return data\n",
        "\n",
        "def txt_to_pyg_data(cindex, input_filename, task_label, index):\n",
        "    ast_graph = txt_to_nx_graph(cindex, input_filename)\n",
        "    pyg_data = to_pyg(ast_graph)\n",
        "    pyg_data.task_label = task_label\n",
        "    pyg_data.index = index\n",
        "    return pyg_data"
      ]
    },
    {
      "cell_type": "markdown",
      "metadata": {
        "id": "n1zap0zPjFFS"
      },
      "source": [
        "Finally, we iterate over each dataset JSON file to convert all code string instances into a list of labelled PyG Data objects"
      ]
    },
    {
      "cell_type": "code",
      "execution_count": 25,
      "metadata": {
        "id": "92bTuz9qZ6QF"
      },
      "outputs": [],
      "source": [
        "def json_to_pyg_dataset(cindex, input_filename, output_filename, stop_at=None):\n",
        "    pyg_dataset = []\n",
        "    with open(input_filename, 'r') as f:\n",
        "        for line in f:\n",
        "            item = json.loads(line)\n",
        "            tmp_filename = 'tmp.txt'\n",
        "            with open(tmp_filename, 'w') as f:\n",
        "                f.write(item['code'])\n",
        "            pyg_data = txt_to_pyg_data(cindex, tmp_filename, int(item['label']), int(item['index']))\n",
        "            pyg_dataset.append(pyg_data)\n",
        "            if stop_at is not None and len(pyg_dataset) == stop_at:\n",
        "                break\n",
        "    torch.save(pyg_dataset, output_filename)\n",
        "    print(len(pyg_dataset))"
      ]
    },
    {
      "cell_type": "code",
      "execution_count": 26,
      "metadata": {
        "id": "Vb7LQjLqgaN5"
      },
      "outputs": [],
      "source": [
        "if not set(['train.pt', 'valid.pt', 'test.pt']).issubset(set(os.listdir('data/poj-104/'))):\n",
        "    # set libclang path\n",
        "    LIBCLANG_PATH = '/Library/Developer/CommandLineTools/usr/lib/libclang.dylib'\n",
        "\n",
        "    # create an index\n",
        "    clang.cindex.Config.set_library_file(LIBCLANG_PATH)\n",
        "    cindex = clang.cindex.Index.create()"
      ]
    },
    {
      "cell_type": "markdown",
      "metadata": {
        "id": "GfEOIAcb41S1"
      },
      "source": [
        "Check if the data files already exist. If they are not, generate the dataset. This may take 5-10 minutes."
      ]
    },
    {
      "cell_type": "code",
      "execution_count": 27,
      "metadata": {
        "id": "p0R6o2l51PtS"
      },
      "outputs": [
        {
          "name": "stdout",
          "output_type": "stream",
          "text": [
            "32000\n",
            "8000\n",
            "12000\n"
          ]
        }
      ],
      "source": [
        "if not set(['train.pt', 'valid.pt', 'test.pt']).issubset(set(os.listdir('data/poj-104/'))):\n",
        "    # generate dataset\n",
        "    json_to_pyg_dataset(cindex, 'train.jsonl', 'data/poj-104/train.pt')\n",
        "    json_to_pyg_dataset(cindex, 'valid.jsonl', 'data/poj-104/valid.pt')\n",
        "    json_to_pyg_dataset(cindex, 'test.jsonl', 'data/poj-104/test.pt')"
      ]
    },
    {
      "cell_type": "markdown",
      "metadata": {
        "id": "J1m51mnNa2Sd"
      },
      "source": [
        "Confirm the dataset is generated"
      ]
    },
    {
      "cell_type": "code",
      "execution_count": 28,
      "metadata": {
        "colab": {
          "base_uri": "https://localhost:8080/"
        },
        "id": "9alPmxKVa10R",
        "outputId": "44dcffdf-afaa-47e7-8e90-3dadaeed38b1"
      },
      "outputs": [
        {
          "name": "stdout",
          "output_type": "stream",
          "text": [
            "['train.pt', 'valid.pt', 'test.pt']\n"
          ]
        }
      ],
      "source": [
        "print(os.listdir('data/poj-104/'))"
      ]
    },
    {
      "cell_type": "markdown",
      "metadata": {
        "id": "cWdE2ld7ULQe"
      },
      "source": [
        "## Defining the Model, Metric, and Optimiser"
      ]
    },
    {
      "cell_type": "markdown",
      "metadata": {
        "id": "2k_H6xd45Rnz"
      },
      "source": [
        "An OrderGNN layer resembles GraphSAGE layer in its message and self-loop aggregation. It extends GraphSAGE's expressivity by using LSTM aggregation with the ordering of the source graph as AST nodes are ordered"
      ]
    },
    {
      "cell_type": "code",
      "execution_count": 29,
      "metadata": {
        "id": "8TkP_L3vbnfG"
      },
      "outputs": [],
      "source": [
        "class OrderGNN(MessagePassing):\n",
        "    def __init__(self, in_channels, out_channels, normalize = False,\n",
        "                 bias = False, **kwargs):\n",
        "        super(OrderGNN, self).__init__()\n",
        "\n",
        "        self.in_channels = in_channels\n",
        "        self.out_channels = out_channels\n",
        "        self.normalize = normalize\n",
        "        self.lin_l = nn.Linear(in_channels, out_channels, bias=bias)\n",
        "        self.lin_r = nn.Linear(in_channels, out_channels, bias=bias)\n",
        "        self.reset_parameters()\n",
        "        self.aggr = aggr.LSTMAggregation(in_channels, out_channels)\n",
        "\n",
        "    def reset_parameters(self):\n",
        "        self.lin_l.reset_parameters()\n",
        "        self.lin_r.reset_parameters()\n",
        "\n",
        "    def forward(self, x, edge_index, size = None):\n",
        "        pyg.utils.add_self_loops(edge_index)\n",
        "        out = self.propagate(edge_index, x=(x, x), size=size).type(torch.float32)\n",
        "\n",
        "        if self.normalize:\n",
        "            out = F.normalize(out, p=2., dim=-1)\n",
        "        return out\n",
        "\n",
        "    def message(self, x_j):\n",
        "        out = self.lin_l(x_j)\n",
        "\n",
        "        return out\n",
        "\n",
        "    def aggregate(self, inputs, index, dim_size = None):\n",
        "        # sort indices to assign LSTM order\n",
        "        inds = torch.argsort(index, stable=True)\n",
        "        inputs = inputs[inds, :]\n",
        "        index = index[inds]\n",
        "        node_dim = self.node_dim\n",
        "        if index.shape[0] > 0:\n",
        "            out = self.aggr(inputs, index, dim_size=dim_size)\n",
        "        else:\n",
        "            # use mean aggregation to use GraphSAGE behaviour\n",
        "            out = torch_scatter.scatter(inputs, index, dim=node_dim, dim_size=dim_size, reduce='mean')\n",
        "        return out"
      ]
    },
    {
      "cell_type": "markdown",
      "metadata": {
        "id": "8RE_utQ-M8bK"
      },
      "source": [
        "The GNNStack class defines the full GNN with GAT, GraphSAGE, or OrderGNN convolutional layers, MLP post-processing layers, dropout regularisation, and SAGPooling to pool node embeddings into a graph embedding."
      ]
    },
    {
      "cell_type": "code",
      "execution_count": 30,
      "metadata": {
        "id": "5dRK5Lhnc17f"
      },
      "outputs": [],
      "source": [
        "class GNNStack(torch.nn.Module):\n",
        "    def __init__(self, input_dim, hidden_dim, output_dim, args, emb=False):\n",
        "        super(GNNStack, self).__init__()\n",
        "        self.node_emb_lookup = nn.Linear(210, args.hidden_dim)\n",
        "        conv_model = self.build_conv_model(args.model_type)\n",
        "        self.convs = nn.ModuleList()\n",
        "        if args.model_type != 'GAT':\n",
        "          for l in range(args.num_layers):\n",
        "              self.convs.append(conv_model(hidden_dim, hidden_dim))\n",
        "        else:\n",
        "          for l in range(args.num_layers):\n",
        "              self.convs.append(conv_model(hidden_dim, hidden_dim, heads = args.heads, concat=False))\n",
        "\n",
        "        # post-processing after message-passing\n",
        "        self.post_mp = nn.Sequential(\n",
        "            nn.Linear(hidden_dim, hidden_dim), nn.Dropout(args.dropout),\n",
        "            nn.Linear(hidden_dim, output_dim))\n",
        "\n",
        "        self.dropout = args.dropout\n",
        "        self.num_layers = args.num_layers\n",
        "        self.sag_pooling = SAGPooling(hidden_dim, ratio=0.5)\n",
        "\n",
        "    def build_conv_model(self, model_type):\n",
        "        if model_type == 'GS':\n",
        "            return pyg.nn.SageConv\n",
        "        if model_type == 'GAT':\n",
        "            return pyg.nn.GATConv\n",
        "        if model_type == 'ORD':\n",
        "            return OrderGNN\n",
        "\n",
        "    def forward(self, data):\n",
        "        x, edge_index, batch = data.x, data.edge_index, data.batch\n",
        "        x = x.type(torch.float32)\n",
        "        x = self.node_emb_lookup(x)\n",
        "\n",
        "        for i in range(self.num_layers):\n",
        "            x = self.convs[i](x, edge_index)\n",
        "            if i == 1:\n",
        "              x, edge_index, _, batch, _, _ = self.sag_pooling(x, edge_index, None, batch)\n",
        "            x = F.relu(x)\n",
        "            x = F.dropout(x, p=self.dropout,training=self.training)\n",
        "\n",
        "        x = self.post_mp(x)\n",
        "        x = pyg.nn.global_mean_pool(x, batch)\n",
        "        return x"
      ]
    },
    {
      "cell_type": "code",
      "execution_count": 31,
      "metadata": {
        "id": "FIctPV5EdRua"
      },
      "outputs": [],
      "source": [
        "def build_optimizer(args, params):\n",
        "    \"\"\"\n",
        "    Defines a given optimiser for parameters requiring gradients given\n",
        "    weight decay and learning rate in args\n",
        "    \"\"\"\n",
        "    weight_decay = args.weight_decay\n",
        "    filter_fn = filter(lambda p : p.requires_grad, params)\n",
        "    if args.opt == 'adam':\n",
        "        optimizer = optim.Adam(filter_fn, lr=args.lr, weight_decay=weight_decay)\n",
        "    elif args.opt == 'sgd':\n",
        "        optimizer = optim.SGD(filter_fn, lr=args.lr, momentum=0.95, weight_decay=weight_decay)\n",
        "    return optimizer"
      ]
    },
    {
      "cell_type": "markdown",
      "metadata": {
        "id": "yWz5thwLOVGZ"
      },
      "source": [
        "As our training objective, we use [Circle Loss](https://arxiv.org/abs/2002.10857), a contrastive loss that jointly maximises within-class similarlity $s_p$ and minimises between-class similarity $s_n$ with a margin for a more definite convergence target.\n",
        "\n",
        "The following functions define the CircleLoss metric and were adapted from [MISIM: A Neural Code Semantics Similarity System Using the Context-Aware Semantics Structure](https://arxiv.org/abs/2006.05265)."
      ]
    },
    {
      "cell_type": "code",
      "execution_count": 32,
      "metadata": {
        "id": "l2FgNqjtILBb"
      },
      "outputs": [],
      "source": [
        "# Computes pairwise cosine similarity for a set of embeddings\n",
        "def pairwise_cosine_similarity(h):\n",
        "    h_norm = F.normalize(h, dim=1)\n",
        "    sim = torch.mm(h_norm, h_norm.transpose(0, 1))\n",
        "    return sim\n",
        "\n",
        "# Computes within-class and between-class scores for given embeddings\n",
        "def compute_scores(h, pids):\n",
        "    sim = pairwise_cosine_similarity(h)\n",
        "    inds = torch.triu_indices(len(pids), len(pids), offset=1)\n",
        "    sim = sim[inds[0], inds[1]]\n",
        "    positive = pids[inds[0]] == pids[inds[1]]\n",
        "    s_p = sim[positive]\n",
        "    s_n = sim[~positive]\n",
        "    return s_p, s_n\n",
        "\n",
        "\n",
        "class CircleLoss(nn.Module):\n",
        "    def __init__(self, gamma=80, m=0.4):\n",
        "        super().__init__()\n",
        "        self.gamma = gamma    # scale factor\n",
        "        self.m = m            # margin\n",
        "\n",
        "    # compute circle loss given within and between class scores\n",
        "    def forward(self, s_p, s_n):\n",
        "        alpha_p = torch.clamp_min(1 + self.m - s_p, 0)\n",
        "        alpha_n = torch.clamp_min(self.m + s_n, 0)\n",
        "        delta_p = 1 - self.m\n",
        "        delta_n = self.m\n",
        "        logit_p = (-self.gamma) * alpha_p * (s_p - delta_p)\n",
        "        logit_n = self.gamma * alpha_n * (s_n - delta_n)\n",
        "        return F.softplus(torch.logsumexp(logit_p, dim=0) + torch.logsumexp(logit_n, dim=0))"
      ]
    },
    {
      "cell_type": "markdown",
      "metadata": {
        "id": "bGQM6KQSQ3fw"
      },
      "source": [
        "For consistency with CodeXGlue benchmarking, we evaluate performance based on mean average precision at r, i.e. MAP@R.\n",
        "\n",
        "The below function implements this and has been adapated from [MISIM: A Neural Code Semantics Similarity System Using the Context-Aware Semantics Structure](https://arxiv.org/abs/2006.05265)."
      ]
    },
    {
      "cell_type": "code",
      "execution_count": 33,
      "metadata": {
        "id": "PlIYLVMaVIYT"
      },
      "outputs": [],
      "source": [
        "# Adapted from MISIM: A Neural Code Semantics Similarity System Using the Context-Aware Semantics Structure\n",
        "\n",
        "def mapar(predictions, label, recall = None):\n",
        "    label = torch.tensor([int(z) for z in label]).cpu().numpy()\n",
        "    x = F.normalize(predictions, dim = 1).cpu().numpy()\n",
        "    sim = x @ x.T\n",
        "    r = np.bincount(label) - 1\n",
        "    max_r = r.max()\n",
        "\n",
        "    mask = np.arange(max_r)[None, :] < r[label][:, None]\n",
        "\n",
        "    ind = np.diag_indices(len(sim))\n",
        "    sim[ind[0], ind[1]] = -np.inf\n",
        "    simx = torch.tensor(sim)\n",
        "\n",
        "    _, result = torch.topk(simx, max_r, dim=1, sorted=True)\n",
        "    result = result.numpy()\n",
        "\n",
        "    tp = (label[result] == label[:, None])\n",
        "    tp[~mask] = False\n",
        "\n",
        "    valid = r[label] > 0\n",
        "\n",
        "    p = np.cumsum(tp, axis=1) / np.arange(1, max_r+1)[None, :]\n",
        "    ap = (p * tp).sum(axis=1)[valid] / r[label][valid]\n",
        "\n",
        "    return ap.mean().item()"
      ]
    },
    {
      "cell_type": "markdown",
      "metadata": {
        "id": "pzwMiJnEUWwq"
      },
      "source": [
        "## Train and Evaluate the Model"
      ]
    },
    {
      "cell_type": "code",
      "execution_count": 34,
      "metadata": {
        "id": "HnAvEQi_dUXi"
      },
      "outputs": [],
      "source": [
        "def train(train_loader, valid_loader, args, model, opt):\n",
        "    \"\"\"\n",
        "    Train given model with a given optimizer, train and validation datasets, and train parameters\n",
        "    Returns lists of per-epoch validation errors, losses, and MAP@R.\n",
        "    Also returns model with lowest validation error and best MAP@R.\n",
        "    \"\"\"\n",
        "    losses = []\n",
        "    valid_errs = []\n",
        "    mapars = []\n",
        "    best_err = float('inf')\n",
        "    best_model = None\n",
        "    criterion = CircleLoss()\n",
        "    for epoch in trange(args.epochs, desc=\"Training\", unit=\"Epochs\"):\n",
        "        total_loss = 0\n",
        "        model.train()\n",
        "        for i, batch in enumerate(train_loader):\n",
        "            opt.zero_grad()\n",
        "            predictions = model(batch)\n",
        "            label = batch.task_label\n",
        "            label = torch.tensor([int(x) for x in label])\n",
        "            sp, sn = compute_scores(predictions, label)\n",
        "            loss = criterion(sp, sn)\n",
        "            loss.backward()\n",
        "            opt.step()\n",
        "            total_loss += loss.item() * batch.num_graphs\n",
        "        total_loss /= len(train_loader.dataset)\n",
        "        losses.append(total_loss)\n",
        "\n",
        "        if epoch % 1 == 0:\n",
        "            valid_err, mavp = test(valid_loader, model)\n",
        "            valid_errs.append(valid_err)\n",
        "            mapars.append(mavp)\n",
        "            if valid_err < best_err:\n",
        "                best_err = valid_err\n",
        "                best_model = copy.deepcopy(model)\n",
        "                torch.save(best_model.state_dict(), args.model_type + '.pt')\n",
        "        else:\n",
        "            valid_errs.append(valid_errs[-1])\n",
        "\n",
        "    return valid_errs, losses, best_model, best_err, mapars"
      ]
    },
    {
      "cell_type": "code",
      "execution_count": 35,
      "metadata": {
        "id": "2lf8oHIuQn5s"
      },
      "outputs": [],
      "source": [
        "def test(loader, test_model, verbose=False):\n",
        "    \"\"\"\n",
        "    Evaluate model with a given dataloader, typically for a validation or test set\n",
        "    \"\"\"\n",
        "\n",
        "    test_model.eval()\n",
        "\n",
        "    error = 0\n",
        "    divisor = len(loader.dataset)\n",
        "    criterion = CircleLoss()\n",
        "    for i, batch in enumerate(loader):\n",
        "        overall_pred = None\n",
        "        overall_label = []\n",
        "        with torch.no_grad():\n",
        "            predictions = test_model(batch)\n",
        "            label = batch.task_label\n",
        "            sp, sn = compute_scores(predictions, label)\n",
        "            loss = criterion(sp, sn)\n",
        "            if overall_pred == None:\n",
        "                overall_pred = predictions\n",
        "            else:\n",
        "                overall_pred = torch.cat([overall_pred, predictions])\n",
        "            overall_label += label\n",
        "        error += loss\n",
        "    error /= divisor\n",
        "    mavp = mapar(overall_pred, overall_label, recall = 500)\n",
        "    return float(error), mavp"
      ]
    },
    {
      "cell_type": "code",
      "execution_count": 36,
      "metadata": {
        "id": "X2OSe1s0Nog3"
      },
      "outputs": [],
      "source": [
        "# Load saved pretrained model if it exists\n",
        "if os.path.isfile(args.model_type + '.pt'):\n",
        "    model = GNNStack(args.embedding_dim, args.hidden_dim, args.embedding_dim, args)\n",
        "    model.load_state_dict(torch.load(args.model_type + '.pt'))\n",
        "else:\n",
        "    model = GNNStack(args.embedding_dim, args.hidden_dim, args.embedding_dim, args)\n",
        "\n",
        "model=model.to(device)\n",
        "opt = build_optimizer(args, model.parameters())"
      ]
    },
    {
      "cell_type": "markdown",
      "metadata": {
        "id": "SRMMm_JuSGrK"
      },
      "source": [
        "The below code loads the train and validation datasets from disk into DataLoader objects with underlying Data objects on the GPU for optimal speed.\n",
        "\n",
        "In order to conserve system RAM, the datasets are loaded from disk as a list of Data objects, each of which is then moved into GPU memory. The loaded dataset is then deleted, and the in-GPU dataset is loaded into a DataLoader."
      ]
    },
    {
      "cell_type": "code",
      "execution_count": 37,
      "metadata": {
        "colab": {
          "base_uri": "https://localhost:8080/"
        },
        "id": "nMOT2FRWdfDz",
        "outputId": "bf86413c-d4cf-4618-d307-cde3904d15d3"
      },
      "outputs": [
        {
          "name": "stdout",
          "output_type": "stream",
          "text": [
            "32000 training graphs\n",
            "8000 validation graphs\n"
          ]
        }
      ],
      "source": [
        "train_dataset = torch.load('data/poj-104/train.pt')\n",
        "train_dataset_gpu = [data.to(device) for data in train_dataset]\n",
        "del train_dataset\n",
        "train_loader = DataLoader(train_dataset_gpu, batch_size=args.batch_size, shuffle=True)\n",
        "print(f\"32000 training graphs\")\n",
        "\n",
        "valid_dataset = torch.load('data/poj-104/valid.pt')\n",
        "valid_dataset_gpu = [data.to(device) for data in valid_dataset]\n",
        "del valid_dataset\n",
        "valid_loader = DataLoader(valid_dataset_gpu, batch_size=args.batch_size, shuffle=True)\n",
        "print(f\"8000 validation graphs\")"
      ]
    },
    {
      "cell_type": "markdown",
      "metadata": {
        "id": "PI1X03NlUddz"
      },
      "source": [
        "Train the model"
      ]
    },
    {
      "cell_type": "code",
      "execution_count": 38,
      "metadata": {
        "colab": {
          "base_uri": "https://localhost:8080/"
        },
        "id": "5H8jD_xXkTZN",
        "outputId": "cbf1da79-60ac-4dff-fceb-4e4bc34b0e75"
      },
      "outputs": [
        {
          "name": "stderr",
          "output_type": "stream",
          "text": [
            "Training:   2%|▏         | 1/50 [24:13<19:47:22, 1453.92s/Epochs]"
          ]
        }
      ],
      "source": [
        "valid_errs, losses, best_model, best_err, mapars = train(train_loader, valid_loader, args, model, opt)\n",
        "print(f'Minimum loss: {min(losses)}')"
      ]
    },
    {
      "cell_type": "markdown",
      "metadata": {
        "id": "QwFSPc_1Ue7l"
      },
      "source": [
        "Visualise training losses and validation errors and MAP@R over training epochs"
      ]
    },
    {
      "cell_type": "code",
      "execution_count": null,
      "metadata": {
        "colab": {
          "base_uri": "https://localhost:8080/",
          "height": 298
        },
        "id": "HPrH0qp6yRra",
        "outputId": "3a041d59-7faa-4f0d-9354-ea90640c191e"
      },
      "outputs": [
        {
          "data": {
            "image/png": "[encoded data removed]",
            "text/plain": [
              "<Figure size 1296x360 with 3 Axes>"
            ]
          },
          "metadata": {},
          "output_type": "display_data"
        },
        {
          "name": "stdout",
          "output_type": "stream",
          "text": [
            "1.0\n"
          ]
        }
      ],
      "source": [
        "import matplotlib.pyplot as plt\n",
        "fig, (ax1, ax2, ax3) = plt.subplots(1, 3, figsize=(18, 5))\n",
        "\n",
        "ax1.plot(losses)\n",
        "ax1.set_title('Losses')\n",
        "\n",
        "ax2.plot(valid_errs)\n",
        "ax2.set_title('Validation Errors')\n",
        "\n",
        "ax3.plot(mapars)\n",
        "ax3.set_title('MAPARS')\n",
        "\n",
        "plt.show()\n",
        "print(max(mapars))"
      ]
    },
    {
      "cell_type": "markdown",
      "metadata": {
        "id": "P8-YuTaPUqSH"
      },
      "source": [
        "## Test the Model"
      ]
    },
    {
      "cell_type": "markdown",
      "metadata": {
        "id": "YvG8DfFPUsgD"
      },
      "source": [
        "In the same way as the train and validation datasets, this loads the test dataset"
      ]
    },
    {
      "cell_type": "code",
      "execution_count": null,
      "metadata": {
        "id": "vAZ3ccfiHzo2"
      },
      "outputs": [],
      "source": [
        "test_dataset = torch.load('data/poj-104/test.pt')\n",
        "test_dataset_gpu = [data.to(device) for data in test_dataset]\n",
        "del test_dataset\n",
        "test_loader = DataLoader(test_dataset_gpu, batch_size=args.batch_size, shuffle=True)"
      ]
    },
    {
      "cell_type": "markdown",
      "metadata": {
        "id": "HXpAS3mYUz6U"
      },
      "source": [
        "Compute the test MAP@R to benchmark the model"
      ]
    },
    {
      "cell_type": "code",
      "execution_count": null,
      "metadata": {
        "colab": {
          "base_uri": "https://localhost:8080/"
        },
        "id": "a2oXNZe1GM2L",
        "outputId": "78996680-cb00-45a8-c959-948888bb10e7"
      },
      "outputs": [
        {
          "name": "stderr",
          "output_type": "stream",
          "text": [
            "/usr/local/lib/python3.9/dist-packages/torch/nn/modules/rnn.py:774: UserWarning: RNN module weights are not part of single contiguous chunk of memory. This means they need to be compacted at every call, possibly greatly increasing memory usage. To compact weights again call flatten_parameters(). (Triggered internally at ../aten/src/ATen/native/cudnn/RNN.cpp:968.)\n",
            "  result = _VF.lstm(input, hx, self._flat_weights, self.bias, self.num_layers,\n"
          ]
        },
        {
          "name": "stdout",
          "output_type": "stream",
          "text": [
            "0.0\n"
          ]
        }
      ],
      "source": [
        "_, mapar_test = test(test_loader, best_model, verbose=True)\n",
        "print(mapar_test)"
      ]
    }
  ],
  "metadata": {
    "accelerator": "GPU",
    "colab": {
      "gpuClass": "premium",
      "provenance": []
    },
    "gpuClass": "premium",
    "kernelspec": {
      "display_name": "Python 3",
      "name": "python3"
    },
    "language_info": {
      "name": "python"
    }
  },
  "nbformat": 4,
  "nbformat_minor": 0
}
